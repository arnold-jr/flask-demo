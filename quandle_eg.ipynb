{
 "cells": [
  {
   "cell_type": "code",
   "execution_count": 15,
   "metadata": {
    "collapsed": true
   },
   "outputs": [],
   "source": [
    "from __future__ import print_function\n",
    "import requests\n",
    "import simplejson as json\n",
    "import pandas as pd\n",
    "import numpy as np\n",
    "from bokeh.plotting import figure, output_file, show"
   ]
  },
  {
   "cell_type": "code",
   "execution_count": 111,
   "metadata": {
    "collapsed": false,
    "scrolled": true
   },
   "outputs": [],
   "source": [
    "def parse_ticker(ticker):\n",
    "    # the request is case insensitive\n",
    "    r = requests.get('https://www.quandl.com/api/v3/datasets/WIKI/'+ticker+'.json')\n",
    "    \n",
    "    # handle invalid tickers\n",
    "    if not 'dataset' in r.json():\n",
    "        return False, pd.DataFrame(), 'invalid'\n",
    "    else:\n",
    "        dict1 = r.json()['dataset']\n",
    "        col_names = dict1['column_names']\n",
    "        data = dict1['data']\n",
    "        name = dict1['name'][:-45]\n",
    "        df = pd.DataFrame(data,columns=col_names)\n",
    "        df['Date'] = pd.to_datetime(df['Date'])\n",
    "        df = df.loc[df['Date']>(df.loc[0,'Date']-np.timedelta64(31,'D'))]\n",
    "        return True, df, name"
   ]
  },
  {
   "cell_type": "code",
   "execution_count": 119,
   "metadata": {
    "collapsed": false
   },
   "outputs": [],
   "source": [
    "def render_plot(df,name):\n",
    "    # output to static HTML file\n",
    "    output_file(\"lines.html\", title=\"line plot example\", mode='cdn')\n",
    "\n",
    "    TOOLS=\"resize,crosshair,pan,wheel_zoom,box_zoom,reset,box_select,lasso_select\"\n",
    "\n",
    "    # create a new plot with a title and axis labels\n",
    "    p = figure(width=1000, height=750,\n",
    "           title=\"simple line example\", x_axis_type='datetime', \n",
    "           x_axis_label='x', y_axis_label='y',\n",
    "           tools=TOOLS)\n",
    "\n",
    "    # prepare some data\n",
    "    x = df['Date']\n",
    "\n",
    "    # add a line renderer with legend and line thickness\n",
    "    p.line(x, df['Close'], legend=\"Close\", line_width=1, color='gray')\n",
    "    p.inverted_triangle(x, df['High'], legend=\"High\", line_width=1, color='black',\n",
    "                   size=10)\n",
    "    p.triangle(x, df['Low'], legend=\"Low\", line_width=1, color='red',\n",
    "                   size=10)\n",
    "\n",
    "    # NEW: customize by setting attributes\n",
    "    p.title = name\n",
    "    #p.legend.orientation = \"top_left\"\n",
    "    p.grid.grid_line_alpha=0\n",
    "    p.xaxis.axis_label = 'Date'\n",
    "    p.xaxis.axis_label_text_font_size = '24pt'\n",
    "    p.xaxis.major_label_text_font_size = '20pt'\n",
    "\n",
    "    p.yaxis.major_label_text_font_size = '20pt'\n",
    "    p.yaxis.axis_label = 'Price / $'\n",
    "\n",
    "    p.yaxis.axis_label_text_font_size = '24pt'\n",
    "    p.ygrid.band_fill_color=\"olive\"\n",
    "    p.ygrid.band_fill_alpha = 0.1\n",
    "\n",
    "    # show the results\n",
    "    show(p)"
   ]
  },
  {
   "cell_type": "code",
   "execution_count": 120,
   "metadata": {
    "collapsed": false,
    "scrolled": true
   },
   "outputs": [],
   "source": [
    "good_ticker, df, name = parse_ticker('cmg')\n",
    "if good_ticker:\n",
    "    render_plot(df,name)"
   ]
  }
 ],
 "metadata": {
  "kernelspec": {
   "display_name": "Python 3",
   "language": "python",
   "name": "python3"
  },
  "language_info": {
   "codemirror_mode": {
    "name": "ipython",
    "version": 3
   },
   "file_extension": ".py",
   "mimetype": "text/x-python",
   "name": "python",
   "nbconvert_exporter": "python",
   "pygments_lexer": "ipython3",
   "version": "3.4.3"
  }
 },
 "nbformat": 4,
 "nbformat_minor": 0
}
